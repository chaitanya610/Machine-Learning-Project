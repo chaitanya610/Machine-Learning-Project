{
 "cells": [
  {
   "cell_type": "markdown",
   "metadata": {},
   "source": [
    "# 1. Frame the Problem"
   ]
  },
  {
   "cell_type": "markdown",
   "metadata": {},
   "source": [
    "The Bank Indessa has not done well in last 3 quarters. Their NPAs (Non Performing Assets) have reached all time high. It is starting to lose confidence of its investors. As a result, it’s stock has fallen by 20% in the previous quarter alone.\n",
    "\n",
    "After careful analysis, it was found that the majority of NPA was contributed by loan defaulters. With the messy data collected over all the years, this bank has decided to use machine learning to figure out a way to find these defaulters and devise a plan to reduce them. \n",
    "\n",
    "In this challenge, you will help this bank by predicting the probability that a member will default"
   ]
  },
  {
   "cell_type": "markdown",
   "metadata": {},
   "source": [
    "## Importing Libraries"
   ]
  },
  {
   "cell_type": "code",
   "execution_count": 31,
   "metadata": {},
   "outputs": [],
   "source": [
    "import pandas as pd\n",
    "import seaborn as sns\n",
    "import matplotlib.pyplot as plt\n",
    "import missingno as ms\n",
    "import numpy as np"
   ]
  },
  {
   "cell_type": "markdown",
   "metadata": {},
   "source": [
    "# 2. Obtain Data"
   ]
  },
  {
   "cell_type": "code",
   "execution_count": 2,
   "metadata": {},
   "outputs": [],
   "source": [
    "data = pd.read_csv('train_indessa.csv')"
   ]
  },
  {
   "cell_type": "code",
   "execution_count": 3,
   "metadata": {},
   "outputs": [
    {
     "name": "stdout",
     "output_type": "stream",
     "text": [
      "<class 'pandas.core.frame.DataFrame'>\n",
      "RangeIndex: 532428 entries, 0 to 532427\n",
      "Data columns (total 45 columns):\n",
      "member_id                      532428 non-null int64\n",
      "loan_amnt                      532428 non-null int64\n",
      "funded_amnt                    532428 non-null int64\n",
      "funded_amnt_inv                532428 non-null float64\n",
      "term                           532428 non-null object\n",
      "batch_enrolled                 447279 non-null object\n",
      "int_rate                       532428 non-null float64\n",
      "grade                          532428 non-null object\n",
      "sub_grade                      532428 non-null object\n",
      "emp_title                      501595 non-null object\n",
      "emp_length                     505537 non-null object\n",
      "home_ownership                 532428 non-null object\n",
      "annual_inc                     532425 non-null float64\n",
      "verification_status            532428 non-null object\n",
      "pymnt_plan                     532428 non-null object\n",
      "desc                           75599 non-null object\n",
      "purpose                        532428 non-null object\n",
      "title                          532338 non-null object\n",
      "zip_code                       532428 non-null object\n",
      "addr_state                     532428 non-null object\n",
      "dti                            532428 non-null float64\n",
      "delinq_2yrs                    532412 non-null float64\n",
      "inq_last_6mths                 532412 non-null float64\n",
      "mths_since_last_delinq         259874 non-null float64\n",
      "mths_since_last_record         82123 non-null float64\n",
      "open_acc                       532412 non-null float64\n",
      "pub_rec                        532412 non-null float64\n",
      "revol_bal                      532428 non-null float64\n",
      "revol_util                     532141 non-null float64\n",
      "total_acc                      532412 non-null float64\n",
      "initial_list_status            532428 non-null object\n",
      "total_rec_int                  532428 non-null float64\n",
      "total_rec_late_fee             532428 non-null float64\n",
      "recoveries                     532428 non-null float64\n",
      "collection_recovery_fee        532428 non-null float64\n",
      "collections_12_mths_ex_med     532333 non-null float64\n",
      "mths_since_last_major_derog    132980 non-null float64\n",
      "application_type               532428 non-null object\n",
      "verification_status_joint      305 non-null object\n",
      "last_week_pay                  532428 non-null object\n",
      "acc_now_delinq                 532412 non-null float64\n",
      "tot_coll_amt                   490424 non-null float64\n",
      "tot_cur_bal                    490424 non-null float64\n",
      "total_rev_hi_lim               490424 non-null float64\n",
      "loan_status                    532428 non-null int64\n",
      "dtypes: float64(23), int64(4), object(18)\n",
      "memory usage: 182.8+ MB\n"
     ]
    }
   ],
   "source": [
    "data.info()"
   ]
  },
  {
   "cell_type": "code",
   "execution_count": 4,
   "metadata": {},
   "outputs": [
    {
     "data": {
      "text/html": [
       "<div>\n",
       "<style scoped>\n",
       "    .dataframe tbody tr th:only-of-type {\n",
       "        vertical-align: middle;\n",
       "    }\n",
       "\n",
       "    .dataframe tbody tr th {\n",
       "        vertical-align: top;\n",
       "    }\n",
       "\n",
       "    .dataframe thead th {\n",
       "        text-align: right;\n",
       "    }\n",
       "</style>\n",
       "<table border=\"1\" class=\"dataframe\">\n",
       "  <thead>\n",
       "    <tr style=\"text-align: right;\">\n",
       "      <th></th>\n",
       "      <th>member_id</th>\n",
       "      <th>loan_amnt</th>\n",
       "      <th>funded_amnt</th>\n",
       "      <th>funded_amnt_inv</th>\n",
       "      <th>term</th>\n",
       "      <th>batch_enrolled</th>\n",
       "      <th>int_rate</th>\n",
       "      <th>grade</th>\n",
       "      <th>sub_grade</th>\n",
       "      <th>emp_title</th>\n",
       "      <th>...</th>\n",
       "      <th>collections_12_mths_ex_med</th>\n",
       "      <th>mths_since_last_major_derog</th>\n",
       "      <th>application_type</th>\n",
       "      <th>verification_status_joint</th>\n",
       "      <th>last_week_pay</th>\n",
       "      <th>acc_now_delinq</th>\n",
       "      <th>tot_coll_amt</th>\n",
       "      <th>tot_cur_bal</th>\n",
       "      <th>total_rev_hi_lim</th>\n",
       "      <th>loan_status</th>\n",
       "    </tr>\n",
       "  </thead>\n",
       "  <tbody>\n",
       "    <tr>\n",
       "      <th>0</th>\n",
       "      <td>58189336</td>\n",
       "      <td>14350</td>\n",
       "      <td>14350</td>\n",
       "      <td>14350.0</td>\n",
       "      <td>36 months</td>\n",
       "      <td></td>\n",
       "      <td>19.19</td>\n",
       "      <td>E</td>\n",
       "      <td>E3</td>\n",
       "      <td>clerk</td>\n",
       "      <td>...</td>\n",
       "      <td>0.0</td>\n",
       "      <td>74.0</td>\n",
       "      <td>INDIVIDUAL</td>\n",
       "      <td>NaN</td>\n",
       "      <td>26th week</td>\n",
       "      <td>0.0</td>\n",
       "      <td>0.0</td>\n",
       "      <td>28699.0</td>\n",
       "      <td>30800.0</td>\n",
       "      <td>0</td>\n",
       "    </tr>\n",
       "    <tr>\n",
       "      <th>1</th>\n",
       "      <td>70011223</td>\n",
       "      <td>4800</td>\n",
       "      <td>4800</td>\n",
       "      <td>4800.0</td>\n",
       "      <td>36 months</td>\n",
       "      <td>BAT1586599</td>\n",
       "      <td>10.99</td>\n",
       "      <td>B</td>\n",
       "      <td>B4</td>\n",
       "      <td>Human Resources Specialist</td>\n",
       "      <td>...</td>\n",
       "      <td>0.0</td>\n",
       "      <td>NaN</td>\n",
       "      <td>INDIVIDUAL</td>\n",
       "      <td>NaN</td>\n",
       "      <td>9th week</td>\n",
       "      <td>0.0</td>\n",
       "      <td>0.0</td>\n",
       "      <td>9974.0</td>\n",
       "      <td>32900.0</td>\n",
       "      <td>0</td>\n",
       "    </tr>\n",
       "    <tr>\n",
       "      <th>2</th>\n",
       "      <td>70255675</td>\n",
       "      <td>10000</td>\n",
       "      <td>10000</td>\n",
       "      <td>10000.0</td>\n",
       "      <td>36 months</td>\n",
       "      <td>BAT1586599</td>\n",
       "      <td>7.26</td>\n",
       "      <td>A</td>\n",
       "      <td>A4</td>\n",
       "      <td>Driver</td>\n",
       "      <td>...</td>\n",
       "      <td>0.0</td>\n",
       "      <td>NaN</td>\n",
       "      <td>INDIVIDUAL</td>\n",
       "      <td>NaN</td>\n",
       "      <td>9th week</td>\n",
       "      <td>0.0</td>\n",
       "      <td>65.0</td>\n",
       "      <td>38295.0</td>\n",
       "      <td>34900.0</td>\n",
       "      <td>0</td>\n",
       "    </tr>\n",
       "    <tr>\n",
       "      <th>3</th>\n",
       "      <td>1893936</td>\n",
       "      <td>15000</td>\n",
       "      <td>15000</td>\n",
       "      <td>15000.0</td>\n",
       "      <td>36 months</td>\n",
       "      <td>BAT4808022</td>\n",
       "      <td>19.72</td>\n",
       "      <td>D</td>\n",
       "      <td>D5</td>\n",
       "      <td>Us office of Personnel Management</td>\n",
       "      <td>...</td>\n",
       "      <td>0.0</td>\n",
       "      <td>NaN</td>\n",
       "      <td>INDIVIDUAL</td>\n",
       "      <td>NaN</td>\n",
       "      <td>135th week</td>\n",
       "      <td>0.0</td>\n",
       "      <td>0.0</td>\n",
       "      <td>55564.0</td>\n",
       "      <td>24700.0</td>\n",
       "      <td>0</td>\n",
       "    </tr>\n",
       "    <tr>\n",
       "      <th>4</th>\n",
       "      <td>7652106</td>\n",
       "      <td>16000</td>\n",
       "      <td>16000</td>\n",
       "      <td>16000.0</td>\n",
       "      <td>36 months</td>\n",
       "      <td>BAT2833642</td>\n",
       "      <td>10.64</td>\n",
       "      <td>B</td>\n",
       "      <td>B2</td>\n",
       "      <td>LAUSD-HOLLYWOOD HIGH SCHOOL</td>\n",
       "      <td>...</td>\n",
       "      <td>0.0</td>\n",
       "      <td>NaN</td>\n",
       "      <td>INDIVIDUAL</td>\n",
       "      <td>NaN</td>\n",
       "      <td>96th week</td>\n",
       "      <td>0.0</td>\n",
       "      <td>0.0</td>\n",
       "      <td>47159.0</td>\n",
       "      <td>47033.0</td>\n",
       "      <td>0</td>\n",
       "    </tr>\n",
       "  </tbody>\n",
       "</table>\n",
       "<p>5 rows × 45 columns</p>\n",
       "</div>"
      ],
      "text/plain": [
       "   member_id  loan_amnt  funded_amnt  funded_amnt_inv       term  \\\n",
       "0   58189336      14350        14350          14350.0  36 months   \n",
       "1   70011223       4800         4800           4800.0  36 months   \n",
       "2   70255675      10000        10000          10000.0  36 months   \n",
       "3    1893936      15000        15000          15000.0  36 months   \n",
       "4    7652106      16000        16000          16000.0  36 months   \n",
       "\n",
       "  batch_enrolled  int_rate grade sub_grade                          emp_title  \\\n",
       "0                    19.19     E        E3                              clerk   \n",
       "1     BAT1586599     10.99     B        B4         Human Resources Specialist   \n",
       "2     BAT1586599      7.26     A        A4                             Driver   \n",
       "3     BAT4808022     19.72     D        D5  Us office of Personnel Management   \n",
       "4     BAT2833642     10.64     B        B2        LAUSD-HOLLYWOOD HIGH SCHOOL   \n",
       "\n",
       "      ...     collections_12_mths_ex_med mths_since_last_major_derog  \\\n",
       "0     ...                            0.0                        74.0   \n",
       "1     ...                            0.0                         NaN   \n",
       "2     ...                            0.0                         NaN   \n",
       "3     ...                            0.0                         NaN   \n",
       "4     ...                            0.0                         NaN   \n",
       "\n",
       "   application_type verification_status_joint last_week_pay acc_now_delinq  \\\n",
       "0        INDIVIDUAL                       NaN     26th week            0.0   \n",
       "1        INDIVIDUAL                       NaN      9th week            0.0   \n",
       "2        INDIVIDUAL                       NaN      9th week            0.0   \n",
       "3        INDIVIDUAL                       NaN    135th week            0.0   \n",
       "4        INDIVIDUAL                       NaN     96th week            0.0   \n",
       "\n",
       "  tot_coll_amt tot_cur_bal total_rev_hi_lim loan_status  \n",
       "0          0.0     28699.0          30800.0           0  \n",
       "1          0.0      9974.0          32900.0           0  \n",
       "2         65.0     38295.0          34900.0           0  \n",
       "3          0.0     55564.0          24700.0           0  \n",
       "4          0.0     47159.0          47033.0           0  \n",
       "\n",
       "[5 rows x 45 columns]"
      ]
     },
     "execution_count": 4,
     "metadata": {},
     "output_type": "execute_result"
    }
   ],
   "source": [
    "data.head()"
   ]
  },
  {
   "cell_type": "code",
   "execution_count": 5,
   "metadata": {},
   "outputs": [
    {
     "data": {
      "text/html": [
       "<div>\n",
       "<style scoped>\n",
       "    .dataframe tbody tr th:only-of-type {\n",
       "        vertical-align: middle;\n",
       "    }\n",
       "\n",
       "    .dataframe tbody tr th {\n",
       "        vertical-align: top;\n",
       "    }\n",
       "\n",
       "    .dataframe thead th {\n",
       "        text-align: right;\n",
       "    }\n",
       "</style>\n",
       "<table border=\"1\" class=\"dataframe\">\n",
       "  <thead>\n",
       "    <tr style=\"text-align: right;\">\n",
       "      <th></th>\n",
       "      <th>member_id</th>\n",
       "      <th>loan_amnt</th>\n",
       "      <th>funded_amnt</th>\n",
       "      <th>funded_amnt_inv</th>\n",
       "      <th>int_rate</th>\n",
       "      <th>annual_inc</th>\n",
       "      <th>dti</th>\n",
       "      <th>delinq_2yrs</th>\n",
       "      <th>inq_last_6mths</th>\n",
       "      <th>mths_since_last_delinq</th>\n",
       "      <th>...</th>\n",
       "      <th>total_rec_late_fee</th>\n",
       "      <th>recoveries</th>\n",
       "      <th>collection_recovery_fee</th>\n",
       "      <th>collections_12_mths_ex_med</th>\n",
       "      <th>mths_since_last_major_derog</th>\n",
       "      <th>acc_now_delinq</th>\n",
       "      <th>tot_coll_amt</th>\n",
       "      <th>tot_cur_bal</th>\n",
       "      <th>total_rev_hi_lim</th>\n",
       "      <th>loan_status</th>\n",
       "    </tr>\n",
       "  </thead>\n",
       "  <tbody>\n",
       "    <tr>\n",
       "      <th>count</th>\n",
       "      <td>5.324280e+05</td>\n",
       "      <td>532428.000000</td>\n",
       "      <td>532428.000000</td>\n",
       "      <td>532428.000000</td>\n",
       "      <td>532428.000000</td>\n",
       "      <td>5.324250e+05</td>\n",
       "      <td>532428.000000</td>\n",
       "      <td>532412.000000</td>\n",
       "      <td>532412.000000</td>\n",
       "      <td>259874.000000</td>\n",
       "      <td>...</td>\n",
       "      <td>532428.000000</td>\n",
       "      <td>532428.000000</td>\n",
       "      <td>532428.000000</td>\n",
       "      <td>532333.000000</td>\n",
       "      <td>132980.000000</td>\n",
       "      <td>532412.000000</td>\n",
       "      <td>490424.000000</td>\n",
       "      <td>4.904240e+05</td>\n",
       "      <td>4.904240e+05</td>\n",
       "      <td>532428.000000</td>\n",
       "    </tr>\n",
       "    <tr>\n",
       "      <th>mean</th>\n",
       "      <td>3.500547e+07</td>\n",
       "      <td>14757.595722</td>\n",
       "      <td>14744.271291</td>\n",
       "      <td>14704.926696</td>\n",
       "      <td>13.242969</td>\n",
       "      <td>7.502984e+04</td>\n",
       "      <td>18.138767</td>\n",
       "      <td>0.314448</td>\n",
       "      <td>0.694603</td>\n",
       "      <td>34.055735</td>\n",
       "      <td>...</td>\n",
       "      <td>0.394954</td>\n",
       "      <td>45.717832</td>\n",
       "      <td>4.859221</td>\n",
       "      <td>0.014299</td>\n",
       "      <td>44.121462</td>\n",
       "      <td>0.005015</td>\n",
       "      <td>213.562222</td>\n",
       "      <td>1.395541e+05</td>\n",
       "      <td>3.208057e+04</td>\n",
       "      <td>0.236327</td>\n",
       "    </tr>\n",
       "    <tr>\n",
       "      <th>std</th>\n",
       "      <td>2.412148e+07</td>\n",
       "      <td>8434.420080</td>\n",
       "      <td>8429.139277</td>\n",
       "      <td>8441.290381</td>\n",
       "      <td>4.379611</td>\n",
       "      <td>6.519985e+04</td>\n",
       "      <td>8.369074</td>\n",
       "      <td>0.860045</td>\n",
       "      <td>0.997025</td>\n",
       "      <td>21.884797</td>\n",
       "      <td>...</td>\n",
       "      <td>4.091546</td>\n",
       "      <td>409.647467</td>\n",
       "      <td>63.123361</td>\n",
       "      <td>0.133005</td>\n",
       "      <td>22.198410</td>\n",
       "      <td>0.079117</td>\n",
       "      <td>1958.571538</td>\n",
       "      <td>1.539149e+05</td>\n",
       "      <td>3.805304e+04</td>\n",
       "      <td>0.424826</td>\n",
       "    </tr>\n",
       "    <tr>\n",
       "      <th>min</th>\n",
       "      <td>7.047300e+04</td>\n",
       "      <td>500.000000</td>\n",
       "      <td>500.000000</td>\n",
       "      <td>0.000000</td>\n",
       "      <td>5.320000</td>\n",
       "      <td>1.200000e+03</td>\n",
       "      <td>0.000000</td>\n",
       "      <td>0.000000</td>\n",
       "      <td>0.000000</td>\n",
       "      <td>0.000000</td>\n",
       "      <td>...</td>\n",
       "      <td>0.000000</td>\n",
       "      <td>0.000000</td>\n",
       "      <td>0.000000</td>\n",
       "      <td>0.000000</td>\n",
       "      <td>0.000000</td>\n",
       "      <td>0.000000</td>\n",
       "      <td>0.000000</td>\n",
       "      <td>0.000000e+00</td>\n",
       "      <td>0.000000e+00</td>\n",
       "      <td>0.000000</td>\n",
       "    </tr>\n",
       "    <tr>\n",
       "      <th>25%</th>\n",
       "      <td>1.086688e+07</td>\n",
       "      <td>8000.000000</td>\n",
       "      <td>8000.000000</td>\n",
       "      <td>8000.000000</td>\n",
       "      <td>9.990000</td>\n",
       "      <td>4.500000e+04</td>\n",
       "      <td>11.930000</td>\n",
       "      <td>0.000000</td>\n",
       "      <td>0.000000</td>\n",
       "      <td>15.000000</td>\n",
       "      <td>...</td>\n",
       "      <td>0.000000</td>\n",
       "      <td>0.000000</td>\n",
       "      <td>0.000000</td>\n",
       "      <td>0.000000</td>\n",
       "      <td>27.000000</td>\n",
       "      <td>0.000000</td>\n",
       "      <td>0.000000</td>\n",
       "      <td>2.983975e+04</td>\n",
       "      <td>1.400000e+04</td>\n",
       "      <td>0.000000</td>\n",
       "    </tr>\n",
       "    <tr>\n",
       "      <th>50%</th>\n",
       "      <td>3.709590e+07</td>\n",
       "      <td>13000.000000</td>\n",
       "      <td>13000.000000</td>\n",
       "      <td>13000.000000</td>\n",
       "      <td>12.990000</td>\n",
       "      <td>6.500000e+04</td>\n",
       "      <td>17.650000</td>\n",
       "      <td>0.000000</td>\n",
       "      <td>0.000000</td>\n",
       "      <td>31.000000</td>\n",
       "      <td>...</td>\n",
       "      <td>0.000000</td>\n",
       "      <td>0.000000</td>\n",
       "      <td>0.000000</td>\n",
       "      <td>0.000000</td>\n",
       "      <td>44.000000</td>\n",
       "      <td>0.000000</td>\n",
       "      <td>0.000000</td>\n",
       "      <td>8.066950e+04</td>\n",
       "      <td>2.370000e+04</td>\n",
       "      <td>0.000000</td>\n",
       "    </tr>\n",
       "    <tr>\n",
       "      <th>75%</th>\n",
       "      <td>5.848920e+07</td>\n",
       "      <td>20000.000000</td>\n",
       "      <td>20000.000000</td>\n",
       "      <td>20000.000000</td>\n",
       "      <td>16.200000</td>\n",
       "      <td>9.000000e+04</td>\n",
       "      <td>23.950000</td>\n",
       "      <td>0.000000</td>\n",
       "      <td>1.000000</td>\n",
       "      <td>50.000000</td>\n",
       "      <td>...</td>\n",
       "      <td>0.000000</td>\n",
       "      <td>0.000000</td>\n",
       "      <td>0.000000</td>\n",
       "      <td>0.000000</td>\n",
       "      <td>61.000000</td>\n",
       "      <td>0.000000</td>\n",
       "      <td>0.000000</td>\n",
       "      <td>2.084792e+05</td>\n",
       "      <td>3.980000e+04</td>\n",
       "      <td>0.000000</td>\n",
       "    </tr>\n",
       "    <tr>\n",
       "      <th>max</th>\n",
       "      <td>7.354484e+07</td>\n",
       "      <td>35000.000000</td>\n",
       "      <td>35000.000000</td>\n",
       "      <td>35000.000000</td>\n",
       "      <td>28.990000</td>\n",
       "      <td>9.500000e+06</td>\n",
       "      <td>672.520000</td>\n",
       "      <td>30.000000</td>\n",
       "      <td>31.000000</td>\n",
       "      <td>180.000000</td>\n",
       "      <td>...</td>\n",
       "      <td>358.680000</td>\n",
       "      <td>33520.270000</td>\n",
       "      <td>7002.190000</td>\n",
       "      <td>16.000000</td>\n",
       "      <td>180.000000</td>\n",
       "      <td>14.000000</td>\n",
       "      <td>496651.000000</td>\n",
       "      <td>8.000078e+06</td>\n",
       "      <td>9.999999e+06</td>\n",
       "      <td>1.000000</td>\n",
       "    </tr>\n",
       "  </tbody>\n",
       "</table>\n",
       "<p>8 rows × 27 columns</p>\n",
       "</div>"
      ],
      "text/plain": [
       "          member_id      loan_amnt    funded_amnt  funded_amnt_inv  \\\n",
       "count  5.324280e+05  532428.000000  532428.000000    532428.000000   \n",
       "mean   3.500547e+07   14757.595722   14744.271291     14704.926696   \n",
       "std    2.412148e+07    8434.420080    8429.139277      8441.290381   \n",
       "min    7.047300e+04     500.000000     500.000000         0.000000   \n",
       "25%    1.086688e+07    8000.000000    8000.000000      8000.000000   \n",
       "50%    3.709590e+07   13000.000000   13000.000000     13000.000000   \n",
       "75%    5.848920e+07   20000.000000   20000.000000     20000.000000   \n",
       "max    7.354484e+07   35000.000000   35000.000000     35000.000000   \n",
       "\n",
       "            int_rate    annual_inc            dti    delinq_2yrs  \\\n",
       "count  532428.000000  5.324250e+05  532428.000000  532412.000000   \n",
       "mean       13.242969  7.502984e+04      18.138767       0.314448   \n",
       "std         4.379611  6.519985e+04       8.369074       0.860045   \n",
       "min         5.320000  1.200000e+03       0.000000       0.000000   \n",
       "25%         9.990000  4.500000e+04      11.930000       0.000000   \n",
       "50%        12.990000  6.500000e+04      17.650000       0.000000   \n",
       "75%        16.200000  9.000000e+04      23.950000       0.000000   \n",
       "max        28.990000  9.500000e+06     672.520000      30.000000   \n",
       "\n",
       "       inq_last_6mths  mths_since_last_delinq      ...        \\\n",
       "count   532412.000000           259874.000000      ...         \n",
       "mean         0.694603               34.055735      ...         \n",
       "std          0.997025               21.884797      ...         \n",
       "min          0.000000                0.000000      ...         \n",
       "25%          0.000000               15.000000      ...         \n",
       "50%          0.000000               31.000000      ...         \n",
       "75%          1.000000               50.000000      ...         \n",
       "max         31.000000              180.000000      ...         \n",
       "\n",
       "       total_rec_late_fee     recoveries  collection_recovery_fee  \\\n",
       "count       532428.000000  532428.000000            532428.000000   \n",
       "mean             0.394954      45.717832                 4.859221   \n",
       "std              4.091546     409.647467                63.123361   \n",
       "min              0.000000       0.000000                 0.000000   \n",
       "25%              0.000000       0.000000                 0.000000   \n",
       "50%              0.000000       0.000000                 0.000000   \n",
       "75%              0.000000       0.000000                 0.000000   \n",
       "max            358.680000   33520.270000              7002.190000   \n",
       "\n",
       "       collections_12_mths_ex_med  mths_since_last_major_derog  \\\n",
       "count               532333.000000                132980.000000   \n",
       "mean                     0.014299                    44.121462   \n",
       "std                      0.133005                    22.198410   \n",
       "min                      0.000000                     0.000000   \n",
       "25%                      0.000000                    27.000000   \n",
       "50%                      0.000000                    44.000000   \n",
       "75%                      0.000000                    61.000000   \n",
       "max                     16.000000                   180.000000   \n",
       "\n",
       "       acc_now_delinq   tot_coll_amt   tot_cur_bal  total_rev_hi_lim  \\\n",
       "count   532412.000000  490424.000000  4.904240e+05      4.904240e+05   \n",
       "mean         0.005015     213.562222  1.395541e+05      3.208057e+04   \n",
       "std          0.079117    1958.571538  1.539149e+05      3.805304e+04   \n",
       "min          0.000000       0.000000  0.000000e+00      0.000000e+00   \n",
       "25%          0.000000       0.000000  2.983975e+04      1.400000e+04   \n",
       "50%          0.000000       0.000000  8.066950e+04      2.370000e+04   \n",
       "75%          0.000000       0.000000  2.084792e+05      3.980000e+04   \n",
       "max         14.000000  496651.000000  8.000078e+06      9.999999e+06   \n",
       "\n",
       "         loan_status  \n",
       "count  532428.000000  \n",
       "mean        0.236327  \n",
       "std         0.424826  \n",
       "min         0.000000  \n",
       "25%         0.000000  \n",
       "50%         0.000000  \n",
       "75%         0.000000  \n",
       "max         1.000000  \n",
       "\n",
       "[8 rows x 27 columns]"
      ]
     },
     "execution_count": 5,
     "metadata": {},
     "output_type": "execute_result"
    }
   ],
   "source": [
    "data.describe()"
   ]
  },
  {
   "cell_type": "markdown",
   "metadata": {},
   "source": [
    "# 3. Analyze Data"
   ]
  },
  {
   "cell_type": "code",
   "execution_count": 6,
   "metadata": {},
   "outputs": [
    {
     "data": {
      "text/plain": [
       "<matplotlib.axes._subplots.AxesSubplot at 0x19d8007a160>"
      ]
     },
     "execution_count": 6,
     "metadata": {},
     "output_type": "execute_result"
    },
    {
     "data": {
      "image/png": "[encoded data removed]",
      "text/plain": [
       "<Figure size 1800x720 with 2 Axes>"
      ]
     },
     "metadata": {},
     "output_type": "display_data"
    }
   ],
   "source": [
    "ms.matrix(data)"
   ]
  },
  {
   "cell_type": "code",
   "execution_count": 7,
   "metadata": {},
   "outputs": [
    {
     "data": {
      "text/html": [
       "<div>\n",
       "<style scoped>\n",
       "    .dataframe tbody tr th:only-of-type {\n",
       "        vertical-align: middle;\n",
       "    }\n",
       "\n",
       "    .dataframe tbody tr th {\n",
       "        vertical-align: top;\n",
       "    }\n",
       "\n",
       "    .dataframe thead th {\n",
       "        text-align: right;\n",
       "    }\n",
       "</style>\n",
       "<table border=\"1\" class=\"dataframe\">\n",
       "  <thead>\n",
       "    <tr style=\"text-align: right;\">\n",
       "      <th></th>\n",
       "      <th>loan_amnt</th>\n",
       "      <th>funded_amnt</th>\n",
       "      <th>funded_amnt_inv</th>\n",
       "      <th>loan_status</th>\n",
       "    </tr>\n",
       "  </thead>\n",
       "  <tbody>\n",
       "    <tr>\n",
       "      <th>0</th>\n",
       "      <td>14350</td>\n",
       "      <td>14350</td>\n",
       "      <td>14350.0</td>\n",
       "      <td>0</td>\n",
       "    </tr>\n",
       "    <tr>\n",
       "      <th>1</th>\n",
       "      <td>4800</td>\n",
       "      <td>4800</td>\n",
       "      <td>4800.0</td>\n",
       "      <td>0</td>\n",
       "    </tr>\n",
       "    <tr>\n",
       "      <th>2</th>\n",
       "      <td>10000</td>\n",
       "      <td>10000</td>\n",
       "      <td>10000.0</td>\n",
       "      <td>0</td>\n",
       "    </tr>\n",
       "    <tr>\n",
       "      <th>3</th>\n",
       "      <td>15000</td>\n",
       "      <td>15000</td>\n",
       "      <td>15000.0</td>\n",
       "      <td>0</td>\n",
       "    </tr>\n",
       "    <tr>\n",
       "      <th>4</th>\n",
       "      <td>16000</td>\n",
       "      <td>16000</td>\n",
       "      <td>16000.0</td>\n",
       "      <td>0</td>\n",
       "    </tr>\n",
       "    <tr>\n",
       "      <th>5</th>\n",
       "      <td>15000</td>\n",
       "      <td>15000</td>\n",
       "      <td>14950.0</td>\n",
       "      <td>0</td>\n",
       "    </tr>\n",
       "    <tr>\n",
       "      <th>6</th>\n",
       "      <td>5000</td>\n",
       "      <td>5000</td>\n",
       "      <td>4975.0</td>\n",
       "      <td>1</td>\n",
       "    </tr>\n",
       "    <tr>\n",
       "      <th>7</th>\n",
       "      <td>6000</td>\n",
       "      <td>6000</td>\n",
       "      <td>6000.0</td>\n",
       "      <td>0</td>\n",
       "    </tr>\n",
       "    <tr>\n",
       "      <th>8</th>\n",
       "      <td>6000</td>\n",
       "      <td>6000</td>\n",
       "      <td>6000.0</td>\n",
       "      <td>0</td>\n",
       "    </tr>\n",
       "    <tr>\n",
       "      <th>9</th>\n",
       "      <td>34550</td>\n",
       "      <td>34550</td>\n",
       "      <td>34550.0</td>\n",
       "      <td>0</td>\n",
       "    </tr>\n",
       "    <tr>\n",
       "      <th>10</th>\n",
       "      <td>25000</td>\n",
       "      <td>25000</td>\n",
       "      <td>24975.0</td>\n",
       "      <td>0</td>\n",
       "    </tr>\n",
       "    <tr>\n",
       "      <th>11</th>\n",
       "      <td>15000</td>\n",
       "      <td>15000</td>\n",
       "      <td>15000.0</td>\n",
       "      <td>1</td>\n",
       "    </tr>\n",
       "    <tr>\n",
       "      <th>12</th>\n",
       "      <td>18000</td>\n",
       "      <td>18000</td>\n",
       "      <td>18000.0</td>\n",
       "      <td>0</td>\n",
       "    </tr>\n",
       "    <tr>\n",
       "      <th>13</th>\n",
       "      <td>9000</td>\n",
       "      <td>9000</td>\n",
       "      <td>9000.0</td>\n",
       "      <td>0</td>\n",
       "    </tr>\n",
       "    <tr>\n",
       "      <th>14</th>\n",
       "      <td>8800</td>\n",
       "      <td>8800</td>\n",
       "      <td>8800.0</td>\n",
       "      <td>1</td>\n",
       "    </tr>\n",
       "    <tr>\n",
       "      <th>15</th>\n",
       "      <td>8000</td>\n",
       "      <td>8000</td>\n",
       "      <td>8000.0</td>\n",
       "      <td>0</td>\n",
       "    </tr>\n",
       "    <tr>\n",
       "      <th>16</th>\n",
       "      <td>18450</td>\n",
       "      <td>18450</td>\n",
       "      <td>18450.0</td>\n",
       "      <td>0</td>\n",
       "    </tr>\n",
       "    <tr>\n",
       "      <th>17</th>\n",
       "      <td>30750</td>\n",
       "      <td>30750</td>\n",
       "      <td>30700.0</td>\n",
       "      <td>0</td>\n",
       "    </tr>\n",
       "    <tr>\n",
       "      <th>18</th>\n",
       "      <td>9000</td>\n",
       "      <td>9000</td>\n",
       "      <td>9000.0</td>\n",
       "      <td>0</td>\n",
       "    </tr>\n",
       "    <tr>\n",
       "      <th>19</th>\n",
       "      <td>24000</td>\n",
       "      <td>24000</td>\n",
       "      <td>24000.0</td>\n",
       "      <td>0</td>\n",
       "    </tr>\n",
       "    <tr>\n",
       "      <th>20</th>\n",
       "      <td>20000</td>\n",
       "      <td>20000</td>\n",
       "      <td>20000.0</td>\n",
       "      <td>0</td>\n",
       "    </tr>\n",
       "  </tbody>\n",
       "</table>\n",
       "</div>"
      ],
      "text/plain": [
       "    loan_amnt  funded_amnt  funded_amnt_inv  loan_status\n",
       "0       14350        14350          14350.0            0\n",
       "1        4800         4800           4800.0            0\n",
       "2       10000        10000          10000.0            0\n",
       "3       15000        15000          15000.0            0\n",
       "4       16000        16000          16000.0            0\n",
       "5       15000        15000          14950.0            0\n",
       "6        5000         5000           4975.0            1\n",
       "7        6000         6000           6000.0            0\n",
       "8        6000         6000           6000.0            0\n",
       "9       34550        34550          34550.0            0\n",
       "10      25000        25000          24975.0            0\n",
       "11      15000        15000          15000.0            1\n",
       "12      18000        18000          18000.0            0\n",
       "13       9000         9000           9000.0            0\n",
       "14       8800         8800           8800.0            1\n",
       "15       8000         8000           8000.0            0\n",
       "16      18450        18450          18450.0            0\n",
       "17      30750        30750          30700.0            0\n",
       "18       9000         9000           9000.0            0\n",
       "19      24000        24000          24000.0            0\n",
       "20      20000        20000          20000.0            0"
      ]
     },
     "execution_count": 7,
     "metadata": {},
     "output_type": "execute_result"
    }
   ],
   "source": [
    "data.loc[0:20, ['loan_amnt', 'funded_amnt', 'funded_amnt_inv', 'loan_status']]"
   ]
  },
  {
   "cell_type": "code",
   "execution_count": 8,
   "metadata": {},
   "outputs": [],
   "source": [
    "check = data['funded_amnt'] == data['loan_amnt']"
   ]
  },
  {
   "cell_type": "code",
   "execution_count": 9,
   "metadata": {},
   "outputs": [
    {
     "data": {
      "text/plain": [
       "1    934\n",
       "0    318\n",
       "Name: loan_status, dtype: int64"
      ]
     },
     "execution_count": 9,
     "metadata": {},
     "output_type": "execute_result"
    }
   ],
   "source": [
    "data.loc[check[check == False].index].loan_status.value_counts()"
   ]
  },
  {
   "cell_type": "code",
   "execution_count": 10,
   "metadata": {},
   "outputs": [
    {
     "data": {
      "text/html": [
       "<div>\n",
       "<style scoped>\n",
       "    .dataframe tbody tr th:only-of-type {\n",
       "        vertical-align: middle;\n",
       "    }\n",
       "\n",
       "    .dataframe tbody tr th {\n",
       "        vertical-align: top;\n",
       "    }\n",
       "\n",
       "    .dataframe thead th {\n",
       "        text-align: right;\n",
       "    }\n",
       "</style>\n",
       "<table border=\"1\" class=\"dataframe\">\n",
       "  <thead>\n",
       "    <tr style=\"text-align: right;\">\n",
       "      <th></th>\n",
       "      <th>0</th>\n",
       "      <th>loan_status</th>\n",
       "    </tr>\n",
       "  </thead>\n",
       "  <tbody>\n",
       "    <tr>\n",
       "      <th>909</th>\n",
       "      <td>7725</td>\n",
       "      <td>1</td>\n",
       "    </tr>\n",
       "    <tr>\n",
       "      <th>973</th>\n",
       "      <td>5775</td>\n",
       "      <td>0</td>\n",
       "    </tr>\n",
       "    <tr>\n",
       "      <th>2952</th>\n",
       "      <td>2375</td>\n",
       "      <td>1</td>\n",
       "    </tr>\n",
       "    <tr>\n",
       "      <th>3046</th>\n",
       "      <td>9400</td>\n",
       "      <td>0</td>\n",
       "    </tr>\n",
       "    <tr>\n",
       "      <th>3151</th>\n",
       "      <td>1500</td>\n",
       "      <td>1</td>\n",
       "    </tr>\n",
       "    <tr>\n",
       "      <th>4507</th>\n",
       "      <td>5850</td>\n",
       "      <td>1</td>\n",
       "    </tr>\n",
       "    <tr>\n",
       "      <th>4968</th>\n",
       "      <td>7500</td>\n",
       "      <td>1</td>\n",
       "    </tr>\n",
       "    <tr>\n",
       "      <th>5825</th>\n",
       "      <td>5900</td>\n",
       "      <td>0</td>\n",
       "    </tr>\n",
       "    <tr>\n",
       "      <th>5984</th>\n",
       "      <td>13175</td>\n",
       "      <td>1</td>\n",
       "    </tr>\n",
       "    <tr>\n",
       "      <th>6145</th>\n",
       "      <td>5725</td>\n",
       "      <td>1</td>\n",
       "    </tr>\n",
       "    <tr>\n",
       "      <th>6173</th>\n",
       "      <td>12750</td>\n",
       "      <td>1</td>\n",
       "    </tr>\n",
       "    <tr>\n",
       "      <th>6358</th>\n",
       "      <td>7750</td>\n",
       "      <td>1</td>\n",
       "    </tr>\n",
       "    <tr>\n",
       "      <th>7335</th>\n",
       "      <td>4800</td>\n",
       "      <td>1</td>\n",
       "    </tr>\n",
       "    <tr>\n",
       "      <th>8040</th>\n",
       "      <td>3125</td>\n",
       "      <td>0</td>\n",
       "    </tr>\n",
       "    <tr>\n",
       "      <th>8419</th>\n",
       "      <td>9725</td>\n",
       "      <td>0</td>\n",
       "    </tr>\n",
       "    <tr>\n",
       "      <th>9464</th>\n",
       "      <td>5550</td>\n",
       "      <td>0</td>\n",
       "    </tr>\n",
       "    <tr>\n",
       "      <th>9633</th>\n",
       "      <td>3075</td>\n",
       "      <td>1</td>\n",
       "    </tr>\n",
       "    <tr>\n",
       "      <th>9717</th>\n",
       "      <td>7200</td>\n",
       "      <td>1</td>\n",
       "    </tr>\n",
       "    <tr>\n",
       "      <th>10035</th>\n",
       "      <td>2000</td>\n",
       "      <td>1</td>\n",
       "    </tr>\n",
       "    <tr>\n",
       "      <th>10257</th>\n",
       "      <td>4750</td>\n",
       "      <td>1</td>\n",
       "    </tr>\n",
       "    <tr>\n",
       "      <th>10568</th>\n",
       "      <td>3000</td>\n",
       "      <td>1</td>\n",
       "    </tr>\n",
       "    <tr>\n",
       "      <th>10799</th>\n",
       "      <td>1950</td>\n",
       "      <td>0</td>\n",
       "    </tr>\n",
       "    <tr>\n",
       "      <th>11065</th>\n",
       "      <td>5825</td>\n",
       "      <td>0</td>\n",
       "    </tr>\n",
       "    <tr>\n",
       "      <th>11301</th>\n",
       "      <td>7075</td>\n",
       "      <td>1</td>\n",
       "    </tr>\n",
       "    <tr>\n",
       "      <th>12232</th>\n",
       "      <td>2350</td>\n",
       "      <td>1</td>\n",
       "    </tr>\n",
       "    <tr>\n",
       "      <th>12361</th>\n",
       "      <td>2225</td>\n",
       "      <td>1</td>\n",
       "    </tr>\n",
       "    <tr>\n",
       "      <th>12845</th>\n",
       "      <td>10000</td>\n",
       "      <td>0</td>\n",
       "    </tr>\n",
       "    <tr>\n",
       "      <th>12881</th>\n",
       "      <td>8750</td>\n",
       "      <td>1</td>\n",
       "    </tr>\n",
       "    <tr>\n",
       "      <th>13038</th>\n",
       "      <td>2075</td>\n",
       "      <td>0</td>\n",
       "    </tr>\n",
       "    <tr>\n",
       "      <th>13129</th>\n",
       "      <td>500</td>\n",
       "      <td>1</td>\n",
       "    </tr>\n",
       "    <tr>\n",
       "      <th>...</th>\n",
       "      <td>...</td>\n",
       "      <td>...</td>\n",
       "    </tr>\n",
       "    <tr>\n",
       "      <th>517360</th>\n",
       "      <td>4975</td>\n",
       "      <td>1</td>\n",
       "    </tr>\n",
       "    <tr>\n",
       "      <th>517972</th>\n",
       "      <td>5025</td>\n",
       "      <td>0</td>\n",
       "    </tr>\n",
       "    <tr>\n",
       "      <th>518151</th>\n",
       "      <td>4300</td>\n",
       "      <td>1</td>\n",
       "    </tr>\n",
       "    <tr>\n",
       "      <th>520117</th>\n",
       "      <td>13450</td>\n",
       "      <td>1</td>\n",
       "    </tr>\n",
       "    <tr>\n",
       "      <th>520795</th>\n",
       "      <td>3000</td>\n",
       "      <td>1</td>\n",
       "    </tr>\n",
       "    <tr>\n",
       "      <th>520804</th>\n",
       "      <td>3625</td>\n",
       "      <td>0</td>\n",
       "    </tr>\n",
       "    <tr>\n",
       "      <th>521104</th>\n",
       "      <td>2550</td>\n",
       "      <td>1</td>\n",
       "    </tr>\n",
       "    <tr>\n",
       "      <th>521401</th>\n",
       "      <td>4850</td>\n",
       "      <td>1</td>\n",
       "    </tr>\n",
       "    <tr>\n",
       "      <th>521881</th>\n",
       "      <td>4000</td>\n",
       "      <td>1</td>\n",
       "    </tr>\n",
       "    <tr>\n",
       "      <th>522563</th>\n",
       "      <td>3800</td>\n",
       "      <td>1</td>\n",
       "    </tr>\n",
       "    <tr>\n",
       "      <th>522772</th>\n",
       "      <td>125</td>\n",
       "      <td>1</td>\n",
       "    </tr>\n",
       "    <tr>\n",
       "      <th>522779</th>\n",
       "      <td>7300</td>\n",
       "      <td>1</td>\n",
       "    </tr>\n",
       "    <tr>\n",
       "      <th>522903</th>\n",
       "      <td>5425</td>\n",
       "      <td>1</td>\n",
       "    </tr>\n",
       "    <tr>\n",
       "      <th>523124</th>\n",
       "      <td>2875</td>\n",
       "      <td>1</td>\n",
       "    </tr>\n",
       "    <tr>\n",
       "      <th>524302</th>\n",
       "      <td>7350</td>\n",
       "      <td>1</td>\n",
       "    </tr>\n",
       "    <tr>\n",
       "      <th>524671</th>\n",
       "      <td>3100</td>\n",
       "      <td>1</td>\n",
       "    </tr>\n",
       "    <tr>\n",
       "      <th>526078</th>\n",
       "      <td>1525</td>\n",
       "      <td>1</td>\n",
       "    </tr>\n",
       "    <tr>\n",
       "      <th>527148</th>\n",
       "      <td>9500</td>\n",
       "      <td>1</td>\n",
       "    </tr>\n",
       "    <tr>\n",
       "      <th>527424</th>\n",
       "      <td>5300</td>\n",
       "      <td>1</td>\n",
       "    </tr>\n",
       "    <tr>\n",
       "      <th>528203</th>\n",
       "      <td>9100</td>\n",
       "      <td>1</td>\n",
       "    </tr>\n",
       "    <tr>\n",
       "      <th>528288</th>\n",
       "      <td>3375</td>\n",
       "      <td>1</td>\n",
       "    </tr>\n",
       "    <tr>\n",
       "      <th>528606</th>\n",
       "      <td>5100</td>\n",
       "      <td>0</td>\n",
       "    </tr>\n",
       "    <tr>\n",
       "      <th>528729</th>\n",
       "      <td>12850</td>\n",
       "      <td>1</td>\n",
       "    </tr>\n",
       "    <tr>\n",
       "      <th>529058</th>\n",
       "      <td>6650</td>\n",
       "      <td>1</td>\n",
       "    </tr>\n",
       "    <tr>\n",
       "      <th>529636</th>\n",
       "      <td>150</td>\n",
       "      <td>1</td>\n",
       "    </tr>\n",
       "    <tr>\n",
       "      <th>530043</th>\n",
       "      <td>7550</td>\n",
       "      <td>0</td>\n",
       "    </tr>\n",
       "    <tr>\n",
       "      <th>530172</th>\n",
       "      <td>7950</td>\n",
       "      <td>1</td>\n",
       "    </tr>\n",
       "    <tr>\n",
       "      <th>530615</th>\n",
       "      <td>4675</td>\n",
       "      <td>0</td>\n",
       "    </tr>\n",
       "    <tr>\n",
       "      <th>531534</th>\n",
       "      <td>7575</td>\n",
       "      <td>1</td>\n",
       "    </tr>\n",
       "    <tr>\n",
       "      <th>532193</th>\n",
       "      <td>4200</td>\n",
       "      <td>1</td>\n",
       "    </tr>\n",
       "  </tbody>\n",
       "</table>\n",
       "<p>1252 rows × 2 columns</p>\n",
       "</div>"
      ],
      "text/plain": [
       "            0  loan_status\n",
       "909      7725            1\n",
       "973      5775            0\n",
       "2952     2375            1\n",
       "3046     9400            0\n",
       "3151     1500            1\n",
       "4507     5850            1\n",
       "4968     7500            1\n",
       "5825     5900            0\n",
       "5984    13175            1\n",
       "6145     5725            1\n",
       "6173    12750            1\n",
       "6358     7750            1\n",
       "7335     4800            1\n",
       "8040     3125            0\n",
       "8419     9725            0\n",
       "9464     5550            0\n",
       "9633     3075            1\n",
       "9717     7200            1\n",
       "10035    2000            1\n",
       "10257    4750            1\n",
       "10568    3000            1\n",
       "10799    1950            0\n",
       "11065    5825            0\n",
       "11301    7075            1\n",
       "12232    2350            1\n",
       "12361    2225            1\n",
       "12845   10000            0\n",
       "12881    8750            1\n",
       "13038    2075            0\n",
       "13129     500            1\n",
       "...       ...          ...\n",
       "517360   4975            1\n",
       "517972   5025            0\n",
       "518151   4300            1\n",
       "520117  13450            1\n",
       "520795   3000            1\n",
       "520804   3625            0\n",
       "521104   2550            1\n",
       "521401   4850            1\n",
       "521881   4000            1\n",
       "522563   3800            1\n",
       "522772    125            1\n",
       "522779   7300            1\n",
       "522903   5425            1\n",
       "523124   2875            1\n",
       "524302   7350            1\n",
       "524671   3100            1\n",
       "526078   1525            1\n",
       "527148   9500            1\n",
       "527424   5300            1\n",
       "528203   9100            1\n",
       "528288   3375            1\n",
       "528606   5100            0\n",
       "528729  12850            1\n",
       "529058   6650            1\n",
       "529636    150            1\n",
       "530043   7550            0\n",
       "530172   7950            1\n",
       "530615   4675            0\n",
       "531534   7575            1\n",
       "532193   4200            1\n",
       "\n",
       "[1252 rows x 2 columns]"
      ]
     },
     "execution_count": 10,
     "metadata": {},
     "output_type": "execute_result"
    }
   ],
   "source": [
    "pd.concat([data.loc[check[check == False].index].loan_amnt - data.loc[check[check == False].index].funded_amnt, data.loc[check[check == False].index].loan_status], axis = 1)"
   ]
  },
  {
   "cell_type": "code",
   "execution_count": 11,
   "metadata": {},
   "outputs": [
    {
     "data": {
      "text/plain": [
       "36 months    372793\n",
       "60 months    159635\n",
       "Name: term, dtype: int64"
      ]
     },
     "execution_count": 11,
     "metadata": {},
     "output_type": "execute_result"
    }
   ],
   "source": [
    "data['term'].value_counts()"
   ]
  },
  {
   "cell_type": "code",
   "execution_count": 12,
   "metadata": {},
   "outputs": [
    {
     "data": {
      "text/plain": [
       "<matplotlib.axes._subplots.AxesSubplot at 0x19d80028d68>"
      ]
     },
     "execution_count": 12,
     "metadata": {},
     "output_type": "execute_result"
    },
    {
     "data": {
      "image/png": "[encoded data removed]",
      "text/plain": [
       "<Figure size 432x288 with 1 Axes>"
      ]
     },
     "metadata": {},
     "output_type": "display_data"
    }
   ],
   "source": [
    "sns.countplot(x = data['term'], hue = data['loan_status'], data = data)"
   ]
  },
  {
   "cell_type": "code",
   "execution_count": 13,
   "metadata": {},
   "outputs": [
    {
     "data": {
      "text/plain": [
       "<matplotlib.axes._subplots.AxesSubplot at 0x19d90beb550>"
      ]
     },
     "execution_count": 13,
     "metadata": {},
     "output_type": "execute_result"
    },
    {
     "data": {
      "image/png": "[encoded data removed]",
      "text/plain": [
       "<Figure size 864x504 with 1 Axes>"
      ]
     },
     "metadata": {},
     "output_type": "display_data"
    }
   ],
   "source": [
    "plt.figure(figsize=(12, 7))\n",
    "sns.countplot(x = data['emp_length'], hue = data['loan_status'], data = data)"
   ]
  },
  {
   "cell_type": "code",
   "execution_count": 14,
   "metadata": {},
   "outputs": [
    {
     "data": {
      "text/plain": [
       "<matplotlib.axes._subplots.AxesSubplot at 0x19d80033eb8>"
      ]
     },
     "execution_count": 14,
     "metadata": {},
     "output_type": "execute_result"
    },
    {
     "data": {
      "image/png": "[encoded data removed]",
      "text/plain": [
       "<Figure size 864x504 with 1 Axes>"
      ]
     },
     "metadata": {},
     "output_type": "display_data"
    }
   ],
   "source": [
    "plt.figure(figsize=(12, 7))\n",
    "sns.countplot(x = data['home_ownership'], hue = data['loan_status'], data = data)"
   ]
  },
  {
   "cell_type": "code",
   "execution_count": 15,
   "metadata": {},
   "outputs": [
    {
     "data": {
      "text/plain": [
       "<matplotlib.axes._subplots.AxesSubplot at 0x19d805f94e0>"
      ]
     },
     "execution_count": 15,
     "metadata": {},
     "output_type": "execute_result"
    },
    {
     "data": {
      "image/png": "[encoded data removed]",
      "text/plain": [
       "<Figure size 864x504 with 1 Axes>"
      ]
     },
     "metadata": {},
     "output_type": "display_data"
    }
   ],
   "source": [
    "plt.figure(figsize=(12, 7))\n",
    "sns.countplot(x = data['verification_status'], hue = data['loan_status'], data = data)"
   ]
  },
  {
   "cell_type": "code",
   "execution_count": 16,
   "metadata": {},
   "outputs": [
    {
     "data": {
      "text/plain": [
       "<matplotlib.axes._subplots.AxesSubplot at 0x19d807fde80>"
      ]
     },
     "execution_count": 16,
     "metadata": {},
     "output_type": "execute_result"
    },
    {
     "data": {
      "image/png": "[encoded data removed]",
      "text/plain": [
       "<Figure size 864x504 with 1 Axes>"
      ]
     },
     "metadata": {},
     "output_type": "display_data"
    }
   ],
   "source": [
    "plt.figure(figsize=(12, 7))\n",
    "sns.countplot(x = data['pymnt_plan'], hue = data['loan_status'], data = data)"
   ]
  },
  {
   "cell_type": "code",
   "execution_count": 17,
   "metadata": {},
   "outputs": [
    {
     "data": {
      "text/plain": [
       "debt_consolidation    314989\n",
       "credit_card           123670\n",
       "home_improvement       31087\n",
       "other                  25652\n",
       "major_purchase         10284\n",
       "small_business          6146\n",
       "car                     5266\n",
       "medical                 5117\n",
       "moving                  3243\n",
       "vacation                2812\n",
       "house                   2170\n",
       "wedding                 1401\n",
       "renewable_energy         331\n",
       "educational              260\n",
       "Name: purpose, dtype: int64"
      ]
     },
     "execution_count": 17,
     "metadata": {},
     "output_type": "execute_result"
    }
   ],
   "source": [
    "data.purpose.value_counts()"
   ]
  },
  {
   "cell_type": "code",
   "execution_count": 18,
   "metadata": {},
   "outputs": [
    {
     "data": {
      "text/plain": [
       "<matplotlib.axes._subplots.AxesSubplot at 0x19d806e8470>"
      ]
     },
     "execution_count": 18,
     "metadata": {},
     "output_type": "execute_result"
    },
    {
     "data": {
      "image/png": "[encoded data removed]",
      "text/plain": [
       "<Figure size 1440x432 with 1 Axes>"
      ]
     },
     "metadata": {},
     "output_type": "display_data"
    }
   ],
   "source": [
    "plt.figure(figsize=(20, 6))\n",
    "sns.countplot(x = data['purpose'], hue = data['loan_status'], data = data)"
   ]
  },
  {
   "cell_type": "code",
   "execution_count": 19,
   "metadata": {},
   "outputs": [
    {
     "data": {
      "text/plain": [
       "<matplotlib.axes._subplots.AxesSubplot at 0x19d80668e80>"
      ]
     },
     "execution_count": 19,
     "metadata": {},
     "output_type": "execute_result"
    },
    {
     "data": {
      "image/png": "[encoded data removed]",
      "text/plain": [
       "<Figure size 1440x432 with 1 Axes>"
      ]
     },
     "metadata": {},
     "output_type": "display_data"
    }
   ],
   "source": [
    "plt.figure(figsize=(20, 6))\n",
    "sns.countplot(x = data['delinq_2yrs'], hue = data['loan_status'], data = data)"
   ]
  },
  {
   "cell_type": "code",
   "execution_count": 20,
   "metadata": {},
   "outputs": [
    {
     "data": {
      "text/plain": [
       "CA    77911\n",
       "NY    44406\n",
       "TX    42527\n",
       "FL    36575\n",
       "IL    21205\n",
       "NJ    20103\n",
       "PA    18882\n",
       "OH    17778\n",
       "GA    17292\n",
       "VA    15826\n",
       "NC    14812\n",
       "MI    13869\n",
       "MD    12667\n",
       "MA    12385\n",
       "AZ    12320\n",
       "WA    11664\n",
       "CO    11233\n",
       "MN     9577\n",
       "MO     8538\n",
       "IN     8197\n",
       "CT     8075\n",
       "TN     7817\n",
       "NV     7408\n",
       "WI     6880\n",
       "AL     6699\n",
       "OR     6549\n",
       "SC     6331\n",
       "LA     6304\n",
       "KY     5140\n",
       "KS     4818\n",
       "OK     4797\n",
       "AR     3988\n",
       "UT     3829\n",
       "NM     2958\n",
       "HI     2705\n",
       "WV     2615\n",
       "NH     2568\n",
       "RI     2322\n",
       "MS     2296\n",
       "MT     1545\n",
       "DE     1512\n",
       "DC     1477\n",
       "AK     1346\n",
       "WY     1198\n",
       "SD     1091\n",
       "VT     1062\n",
       "NE      709\n",
       "ME      324\n",
       "ND      284\n",
       "IA        7\n",
       "ID        7\n",
       "Name: addr_state, dtype: int64"
      ]
     },
     "execution_count": 20,
     "metadata": {},
     "output_type": "execute_result"
    }
   ],
   "source": [
    "data['addr_state'].value_counts()"
   ]
  },
  {
   "cell_type": "code",
   "execution_count": 21,
   "metadata": {},
   "outputs": [
    {
     "data": {
      "text/plain": [
       "<matplotlib.axes._subplots.AxesSubplot at 0x19d80736828>"
      ]
     },
     "execution_count": 21,
     "metadata": {},
     "output_type": "execute_result"
    },
    {
     "data": {
      "image/png": "[encoded data removed]",
      "text/plain": [
       "<Figure size 720x576 with 1 Axes>"
      ]
     },
     "metadata": {},
     "output_type": "display_data"
    }
   ],
   "source": [
    "plt.figure(figsize=(10, 8))\n",
    "sns.countplot(x = data['initial_list_status'], hue = data['loan_status'], data = data)"
   ]
  },
  {
   "cell_type": "code",
   "execution_count": 22,
   "metadata": {},
   "outputs": [
    {
     "data": {
      "text/plain": [
       "<matplotlib.axes._subplots.AxesSubplot at 0x19d80bd66a0>"
      ]
     },
     "execution_count": 22,
     "metadata": {},
     "output_type": "execute_result"
    },
    {
     "data": {
      "image/png": "[encoded data removed]",
      "text/plain": [
       "<Figure size 720x576 with 1 Axes>"
      ]
     },
     "metadata": {},
     "output_type": "display_data"
    }
   ],
   "source": [
    "plt.figure(figsize=(10, 8))\n",
    "sns.countplot(x = data['application_type'], hue = data['loan_status'], data = data)"
   ]
  },
  {
   "cell_type": "code",
   "execution_count": 23,
   "metadata": {},
   "outputs": [
    {
     "data": {
      "text/plain": [
       "0    304\n",
       "1      1\n",
       "Name: loan_status, dtype: int64"
      ]
     },
     "execution_count": 23,
     "metadata": {},
     "output_type": "execute_result"
    }
   ],
   "source": [
    "data.loc[data['application_type'] == 'JOINT'].loan_status.value_counts()"
   ]
  },
  {
   "cell_type": "code",
   "execution_count": 24,
   "metadata": {},
   "outputs": [
    {
     "data": {
      "text/plain": [
       "INDIVIDUAL    532123\n",
       "JOINT            305\n",
       "Name: application_type, dtype: int64"
      ]
     },
     "execution_count": 24,
     "metadata": {},
     "output_type": "execute_result"
    }
   ],
   "source": [
    "data['application_type'].value_counts()"
   ]
  },
  {
   "cell_type": "code",
   "execution_count": 25,
   "metadata": {},
   "outputs": [
    {
     "data": {
      "text/plain": [
       "<matplotlib.axes._subplots.AxesSubplot at 0x19d80beaeb8>"
      ]
     },
     "execution_count": 25,
     "metadata": {},
     "output_type": "execute_result"
    },
    {
     "data": {
      "image/png": "[encoded data removed]",
      "text/plain": [
       "<Figure size 720x576 with 1 Axes>"
      ]
     },
     "metadata": {},
     "output_type": "display_data"
    }
   ],
   "source": [
    "plt.figure(figsize=(10, 8))\n",
    "sns.countplot(x = data['home_ownership'], hue = data['emp_length'], data = data)"
   ]
  },
  {
   "cell_type": "code",
   "execution_count": 26,
   "metadata": {},
   "outputs": [
    {
     "data": {
      "text/plain": [
       "13th week     30333\n",
       "9th week      28626\n",
       "26th week     27475\n",
       "22th week     26000\n",
       "4th week      25704\n",
       "35th week     24037\n",
       "39th week     23796\n",
       "17th week     22036\n",
       "31th week     21437\n",
       "52th week     19391\n",
       "65th week     19231\n",
       "48th week     19104\n",
       "61th week     18082\n",
       "78th week     14130\n",
       "74th week     13407\n",
       "87th week     11333\n",
       "91th week     10759\n",
       "NAth week     10614\n",
       "44th week     10433\n",
       "83th week      9817\n",
       "70th week      9605\n",
       "156th week     8504\n",
       "100th week     8309\n",
       "43th week      8159\n",
       "109th week     7838\n",
       "57th week      7828\n",
       "104th week     7703\n",
       "96th week      6810\n",
       "113th week     6533\n",
       "117th week     6463\n",
       "              ...  \n",
       "222th week      183\n",
       "200th week      180\n",
       "204th week      171\n",
       "226th week      167\n",
       "231th week      148\n",
       "235th week      137\n",
       "244th week      130\n",
       "239th week      129\n",
       "248th week      124\n",
       "252th week      117\n",
       "169th week      104\n",
       "256th week       82\n",
       "79th week        81\n",
       "182th week       34\n",
       "243th week       28\n",
       "153th week       25\n",
       "192th week       18\n",
       "230th week       17\n",
       "257th week       11\n",
       "218th week       11\n",
       "270th week       10\n",
       "221th week        3\n",
       "205th week        2\n",
       "291th week        2\n",
       "283th week        1\n",
       "300th week        1\n",
       "304th week        1\n",
       "278th week        1\n",
       "269th week        1\n",
       "274th week        1\n",
       "Name: last_week_pay, Length: 98, dtype: int64"
      ]
     },
     "execution_count": 26,
     "metadata": {},
     "output_type": "execute_result"
    }
   ],
   "source": [
    "data['last_week_pay'].value_counts()"
   ]
  },
  {
   "cell_type": "code",
   "execution_count": 27,
   "metadata": {},
   "outputs": [
    {
     "data": {
      "text/plain": [
       "0.0     430104\n",
       "1.0      67947\n",
       "2.0      20167\n",
       "3.0       7269\n",
       "4.0       3159\n",
       "5.0       1622\n",
       "6.0        898\n",
       "7.0        451\n",
       "8.0        266\n",
       "9.0        166\n",
       "10.0       116\n",
       "11.0        73\n",
       "12.0        61\n",
       "13.0        37\n",
       "14.0        28\n",
       "15.0        14\n",
       "16.0         9\n",
       "18.0         8\n",
       "17.0         6\n",
       "19.0         4\n",
       "21.0         2\n",
       "30.0         1\n",
       "22.0         1\n",
       "26.0         1\n",
       "27.0         1\n",
       "24.0         1\n",
       "Name: delinq_2yrs, dtype: int64"
      ]
     },
     "execution_count": 27,
     "metadata": {},
     "output_type": "execute_result"
    }
   ],
   "source": [
    "data['delinq_2yrs'].value_counts()"
   ]
  },
  {
   "cell_type": "code",
   "execution_count": 28,
   "metadata": {},
   "outputs": [
    {
     "data": {
      "text/plain": [
       "<matplotlib.axes._subplots.AxesSubplot at 0x19d90350390>"
      ]
     },
     "execution_count": 28,
     "metadata": {},
     "output_type": "execute_result"
    },
    {
     "data": {
      "image/png": "[encoded data removed]",
      "text/plain": [
       "<Figure size 720x576 with 1 Axes>"
      ]
     },
     "metadata": {},
     "output_type": "display_data"
    }
   ],
   "source": [
    "plt.figure(figsize=(10, 8))\n",
    "sns.stripplot(x = data['delinq_2yrs'], y = data['acc_now_delinq'], data = data)"
   ]
  },
  {
   "cell_type": "markdown",
   "metadata": {},
   "source": [
    "# 4. Feature Engineering"
   ]
  },
  {
   "cell_type": "code",
   "execution_count": 29,
   "metadata": {},
   "outputs": [
    {
     "name": "stdout",
     "output_type": "stream",
     "text": [
      "<class 'pandas.core.frame.DataFrame'>\n",
      "RangeIndex: 532428 entries, 0 to 532427\n",
      "Data columns (total 45 columns):\n",
      "member_id                      532428 non-null int64\n",
      "loan_amnt                      532428 non-null int64\n",
      "funded_amnt                    532428 non-null int64\n",
      "funded_amnt_inv                532428 non-null float64\n",
      "term                           532428 non-null object\n",
      "batch_enrolled                 447279 non-null object\n",
      "int_rate                       532428 non-null float64\n",
      "grade                          532428 non-null object\n",
      "sub_grade                      532428 non-null object\n",
      "emp_title                      501595 non-null object\n",
      "emp_length                     505537 non-null object\n",
      "home_ownership                 532428 non-null object\n",
      "annual_inc                     532425 non-null float64\n",
      "verification_status            532428 non-null object\n",
      "pymnt_plan                     532428 non-null object\n",
      "desc                           75599 non-null object\n",
      "purpose                        532428 non-null object\n",
      "title                          532338 non-null object\n",
      "zip_code                       532428 non-null object\n",
      "addr_state                     532428 non-null object\n",
      "dti                            532428 non-null float64\n",
      "delinq_2yrs                    532412 non-null float64\n",
      "inq_last_6mths                 532412 non-null float64\n",
      "mths_since_last_delinq         259874 non-null float64\n",
      "mths_since_last_record         82123 non-null float64\n",
      "open_acc                       532412 non-null float64\n",
      "pub_rec                        532412 non-null float64\n",
      "revol_bal                      532428 non-null float64\n",
      "revol_util                     532141 non-null float64\n",
      "total_acc                      532412 non-null float64\n",
      "initial_list_status            532428 non-null object\n",
      "total_rec_int                  532428 non-null float64\n",
      "total_rec_late_fee             532428 non-null float64\n",
      "recoveries                     532428 non-null float64\n",
      "collection_recovery_fee        532428 non-null float64\n",
      "collections_12_mths_ex_med     532333 non-null float64\n",
      "mths_since_last_major_derog    132980 non-null float64\n",
      "application_type               532428 non-null object\n",
      "verification_status_joint      305 non-null object\n",
      "last_week_pay                  532428 non-null object\n",
      "acc_now_delinq                 532412 non-null float64\n",
      "tot_coll_amt                   490424 non-null float64\n",
      "tot_cur_bal                    490424 non-null float64\n",
      "total_rev_hi_lim               490424 non-null float64\n",
      "loan_status                    532428 non-null int64\n",
      "dtypes: float64(23), int64(4), object(18)\n",
      "memory usage: 182.8+ MB\n"
     ]
    }
   ],
   "source": [
    "data.info()"
   ]
  },
  {
   "cell_type": "markdown",
   "metadata": {},
   "source": [
    "### Converting objects to numericals"
   ]
  },
  {
   "cell_type": "code",
   "execution_count": 32,
   "metadata": {},
   "outputs": [],
   "source": [
    "def convert_last_week_pay(col):\n",
    "    num = col[:col.find('th')]\n",
    "    if(num == 'NA'):\n",
    "        return np.nan\n",
    "    return int(num)"
   ]
  },
  {
   "cell_type": "code",
   "execution_count": 33,
   "metadata": {},
   "outputs": [],
   "source": [
    "data['last_week_pay'] = data['last_week_pay'].apply(convert_last_week_pay)"
   ]
  },
  {
   "cell_type": "code",
   "execution_count": 34,
   "metadata": {},
   "outputs": [],
   "source": [
    "data['term'] = data['term'].map({'36 months':3, '60 months': 5})"
   ]
  },
  {
   "cell_type": "markdown",
   "metadata": {},
   "source": [
    "### Filling Missing Values"
   ]
  },
  {
   "cell_type": "code",
   "execution_count": 35,
   "metadata": {},
   "outputs": [],
   "source": [
    "def fill_missings_train(df):\n",
    "    df['emp_length'].fillna('10+ years', inplace = True)\n",
    "    df['mths_since_last_delinq'].fillna(34.0, inplace = True)\n",
    "    df['revol_util'].fillna(55.0, inplace = True)\n",
    "    df['collections_12_mths_ex_med'].fillna(0.0, inplace = True)\n",
    "#     df['mths_since_last_major_derog'].fillna(df['mths_since_last_major_derog'].mean, inplace = True)\n",
    "    df['tot_coll_amt'].fillna(0.0, inplace = True)\n",
    "    df['tot_cur_bal'].fillna(0.0, inplace = True)\n",
    "    df['total_rev_hi_lim'].fillna(32080.57, inplace = True)\n",
    "    df['last_week_pay'].fillna(58.0, inplace = True)"
   ]
  },
  {
   "cell_type": "markdown",
   "metadata": {},
   "source": [
    "### Adding New Columns"
   ]
  },
  {
   "cell_type": "code",
   "execution_count": 36,
   "metadata": {},
   "outputs": [],
   "source": [
    "def add_new_columns(data):\n",
    "    data['SI'] = data['funded_amnt'] * data['term'] * data['int_rate'] / 100\n",
    "    data['disappointment'] = (data['loan_amnt'] == data['funded_amnt']).apply(int)\n",
    "    data['capability'] = data['loan_amnt'] / data['annual_inc']"
   ]
  },
  {
   "cell_type": "code",
   "execution_count": 37,
   "metadata": {},
   "outputs": [],
   "source": [
    "add_new_columns(data)"
   ]
  },
  {
   "cell_type": "markdown",
   "metadata": {},
   "source": [
    "### Categorical Value Conversion"
   ]
  },
  {
   "cell_type": "code",
   "execution_count": 38,
   "metadata": {},
   "outputs": [],
   "source": [
    "def convert_columns(data):\n",
    "    term_df = pd.get_dummies(data['term'], drop_first = True)\n",
    "#     emp_length_df = pd.get_dummies(data['emp_length'], drop_first = True)\n",
    "    home_ownership_df = pd.get_dummies(data['home_ownership'], drop_first = True)\n",
    "    verification_status_df = pd.get_dummies(data['verification_status'], drop_first = True)\n",
    "    purpose_df = pd.get_dummies(data['purpose'], drop_first = True)\n",
    "    initial_list_status_df = pd.get_dummies(data['initial_list_status'], drop_first = True)\n",
    "    application = pd.get_dummies(data['application_type'], drop_first = True)\n",
    "    data.drop(['batch_enrolled', 'grade', 'sub_grade', 'emp_title', 'pymnt_plan', 'desc', 'title', 'zip_code', 'addr_state', 'mths_since_last_record', 'mths_since_last_major_derog', 'verification_status_joint'], inplace = True, axis = 1)\n",
    "    data.drop(['term', 'emp_length', 'home_ownership', 'verification_status', 'purpose', 'initial_list_status', 'application_type'], inplace = True, axis = 1)\n",
    "    data = pd.concat([data, term_df, home_ownership_df, verification_status_df, purpose_df, initial_list_status_df, application], axis = 1)\n",
    "    return data"
   ]
  },
  {
   "cell_type": "code",
   "execution_count": 39,
   "metadata": {},
   "outputs": [],
   "source": [
    "data = convert_columns(data)"
   ]
  },
  {
   "cell_type": "code",
   "execution_count": 40,
   "metadata": {},
   "outputs": [
    {
     "name": "stdout",
     "output_type": "stream",
     "text": [
      "<class 'pandas.core.frame.DataFrame'>\n",
      "RangeIndex: 532428 entries, 0 to 532427\n",
      "Data columns (total 51 columns):\n",
      "member_id                     532428 non-null int64\n",
      "loan_amnt                     532428 non-null int64\n",
      "funded_amnt                   532428 non-null int64\n",
      "funded_amnt_inv               532428 non-null float64\n",
      "int_rate                      532428 non-null float64\n",
      "annual_inc                    532425 non-null float64\n",
      "dti                           532428 non-null float64\n",
      "delinq_2yrs                   532412 non-null float64\n",
      "inq_last_6mths                532412 non-null float64\n",
      "mths_since_last_delinq        259874 non-null float64\n",
      "open_acc                      532412 non-null float64\n",
      "pub_rec                       532412 non-null float64\n",
      "revol_bal                     532428 non-null float64\n",
      "revol_util                    532141 non-null float64\n",
      "total_acc                     532412 non-null float64\n",
      "total_rec_int                 532428 non-null float64\n",
      "total_rec_late_fee            532428 non-null float64\n",
      "recoveries                    532428 non-null float64\n",
      "collection_recovery_fee       532428 non-null float64\n",
      "collections_12_mths_ex_med    532333 non-null float64\n",
      "last_week_pay                 521814 non-null float64\n",
      "acc_now_delinq                532412 non-null float64\n",
      "tot_coll_amt                  490424 non-null float64\n",
      "tot_cur_bal                   490424 non-null float64\n",
      "total_rev_hi_lim              490424 non-null float64\n",
      "loan_status                   532428 non-null int64\n",
      "SI                            532428 non-null float64\n",
      "disappointment                532428 non-null int64\n",
      "5                             532428 non-null uint8\n",
      "MORTGAGE                      532428 non-null uint8\n",
      "NONE                          532428 non-null uint8\n",
      "OTHER                         532428 non-null uint8\n",
      "OWN                           532428 non-null uint8\n",
      "RENT                          532428 non-null uint8\n",
      "Source Verified               532428 non-null uint8\n",
      "Verified                      532428 non-null uint8\n",
      "credit_card                   532428 non-null uint8\n",
      "debt_consolidation            532428 non-null uint8\n",
      "educational                   532428 non-null uint8\n",
      "home_improvement              532428 non-null uint8\n",
      "house                         532428 non-null uint8\n",
      "major_purchase                532428 non-null uint8\n",
      "medical                       532428 non-null uint8\n",
      "moving                        532428 non-null uint8\n",
      "other                         532428 non-null uint8\n",
      "renewable_energy              532428 non-null uint8\n",
      "small_business                532428 non-null uint8\n",
      "vacation                      532428 non-null uint8\n",
      "wedding                       532428 non-null uint8\n",
      "w                             532428 non-null uint8\n",
      "JOINT                         532428 non-null uint8\n",
      "dtypes: float64(23), int64(5), uint8(23)\n",
      "memory usage: 125.4 MB\n"
     ]
    }
   ],
   "source": [
    "data.info()"
   ]
  },
  {
   "cell_type": "code",
   "execution_count": 41,
   "metadata": {},
   "outputs": [],
   "source": [
    "data.dropna(inplace = True)"
   ]
  },
  {
   "cell_type": "markdown",
   "metadata": {},
   "source": [
    "# 5. Model Selection"
   ]
  },
  {
   "cell_type": "code",
   "execution_count": 42,
   "metadata": {},
   "outputs": [],
   "source": [
    "from sklearn.model_selection import train_test_split"
   ]
  },
  {
   "cell_type": "code",
   "execution_count": 43,
   "metadata": {},
   "outputs": [],
   "source": [
    "X_train, X_test, y_train, y_test = train_test_split(data.drop(['loan_status'], axis = 1), data['loan_status'], random_state = 42, test_size = 0.2)"
   ]
  },
  {
   "cell_type": "code",
   "execution_count": 44,
   "metadata": {},
   "outputs": [
    {
     "data": {
      "text/html": [
       "<div>\n",
       "<style scoped>\n",
       "    .dataframe tbody tr th:only-of-type {\n",
       "        vertical-align: middle;\n",
       "    }\n",
       "\n",
       "    .dataframe tbody tr th {\n",
       "        vertical-align: top;\n",
       "    }\n",
       "\n",
       "    .dataframe thead th {\n",
       "        text-align: right;\n",
       "    }\n",
       "</style>\n",
       "<table border=\"1\" class=\"dataframe\">\n",
       "  <thead>\n",
       "    <tr style=\"text-align: right;\">\n",
       "      <th></th>\n",
       "      <th>member_id</th>\n",
       "      <th>loan_amnt</th>\n",
       "      <th>funded_amnt</th>\n",
       "      <th>funded_amnt_inv</th>\n",
       "      <th>int_rate</th>\n",
       "      <th>annual_inc</th>\n",
       "      <th>dti</th>\n",
       "      <th>delinq_2yrs</th>\n",
       "      <th>inq_last_6mths</th>\n",
       "      <th>mths_since_last_delinq</th>\n",
       "      <th>...</th>\n",
       "      <th>major_purchase</th>\n",
       "      <th>medical</th>\n",
       "      <th>moving</th>\n",
       "      <th>other</th>\n",
       "      <th>renewable_energy</th>\n",
       "      <th>small_business</th>\n",
       "      <th>vacation</th>\n",
       "      <th>wedding</th>\n",
       "      <th>w</th>\n",
       "      <th>JOINT</th>\n",
       "    </tr>\n",
       "  </thead>\n",
       "  <tbody>\n",
       "    <tr>\n",
       "      <th>261302</th>\n",
       "      <td>45461424</td>\n",
       "      <td>23825</td>\n",
       "      <td>23825</td>\n",
       "      <td>23825.0</td>\n",
       "      <td>14.65</td>\n",
       "      <td>90000.0</td>\n",
       "      <td>14.45</td>\n",
       "      <td>1.0</td>\n",
       "      <td>0.0</td>\n",
       "      <td>18.0</td>\n",
       "      <td>...</td>\n",
       "      <td>0</td>\n",
       "      <td>0</td>\n",
       "      <td>0</td>\n",
       "      <td>0</td>\n",
       "      <td>0</td>\n",
       "      <td>0</td>\n",
       "      <td>0</td>\n",
       "      <td>0</td>\n",
       "      <td>0</td>\n",
       "      <td>0</td>\n",
       "    </tr>\n",
       "    <tr>\n",
       "      <th>480983</th>\n",
       "      <td>26467679</td>\n",
       "      <td>9175</td>\n",
       "      <td>9175</td>\n",
       "      <td>9175.0</td>\n",
       "      <td>16.99</td>\n",
       "      <td>42000.0</td>\n",
       "      <td>23.83</td>\n",
       "      <td>0.0</td>\n",
       "      <td>5.0</td>\n",
       "      <td>52.0</td>\n",
       "      <td>...</td>\n",
       "      <td>0</td>\n",
       "      <td>0</td>\n",
       "      <td>0</td>\n",
       "      <td>0</td>\n",
       "      <td>0</td>\n",
       "      <td>0</td>\n",
       "      <td>0</td>\n",
       "      <td>0</td>\n",
       "      <td>0</td>\n",
       "      <td>0</td>\n",
       "    </tr>\n",
       "    <tr>\n",
       "      <th>311900</th>\n",
       "      <td>64351938</td>\n",
       "      <td>18000</td>\n",
       "      <td>18000</td>\n",
       "      <td>18000.0</td>\n",
       "      <td>8.18</td>\n",
       "      <td>54000.0</td>\n",
       "      <td>17.56</td>\n",
       "      <td>0.0</td>\n",
       "      <td>0.0</td>\n",
       "      <td>57.0</td>\n",
       "      <td>...</td>\n",
       "      <td>0</td>\n",
       "      <td>0</td>\n",
       "      <td>0</td>\n",
       "      <td>0</td>\n",
       "      <td>0</td>\n",
       "      <td>0</td>\n",
       "      <td>0</td>\n",
       "      <td>0</td>\n",
       "      <td>0</td>\n",
       "      <td>0</td>\n",
       "    </tr>\n",
       "    <tr>\n",
       "      <th>271108</th>\n",
       "      <td>70781042</td>\n",
       "      <td>10000</td>\n",
       "      <td>10000</td>\n",
       "      <td>10000.0</td>\n",
       "      <td>12.59</td>\n",
       "      <td>62000.0</td>\n",
       "      <td>20.02</td>\n",
       "      <td>1.0</td>\n",
       "      <td>2.0</td>\n",
       "      <td>10.0</td>\n",
       "      <td>...</td>\n",
       "      <td>0</td>\n",
       "      <td>0</td>\n",
       "      <td>0</td>\n",
       "      <td>0</td>\n",
       "      <td>0</td>\n",
       "      <td>0</td>\n",
       "      <td>0</td>\n",
       "      <td>0</td>\n",
       "      <td>1</td>\n",
       "      <td>0</td>\n",
       "    </tr>\n",
       "    <tr>\n",
       "      <th>127630</th>\n",
       "      <td>53352938</td>\n",
       "      <td>28000</td>\n",
       "      <td>28000</td>\n",
       "      <td>28000.0</td>\n",
       "      <td>20.99</td>\n",
       "      <td>85000.0</td>\n",
       "      <td>18.75</td>\n",
       "      <td>3.0</td>\n",
       "      <td>2.0</td>\n",
       "      <td>12.0</td>\n",
       "      <td>...</td>\n",
       "      <td>0</td>\n",
       "      <td>0</td>\n",
       "      <td>0</td>\n",
       "      <td>0</td>\n",
       "      <td>0</td>\n",
       "      <td>0</td>\n",
       "      <td>0</td>\n",
       "      <td>0</td>\n",
       "      <td>1</td>\n",
       "      <td>0</td>\n",
       "    </tr>\n",
       "  </tbody>\n",
       "</table>\n",
       "<p>5 rows × 50 columns</p>\n",
       "</div>"
      ],
      "text/plain": [
       "        member_id  loan_amnt  funded_amnt  funded_amnt_inv  int_rate  \\\n",
       "261302   45461424      23825        23825          23825.0     14.65   \n",
       "480983   26467679       9175         9175           9175.0     16.99   \n",
       "311900   64351938      18000        18000          18000.0      8.18   \n",
       "271108   70781042      10000        10000          10000.0     12.59   \n",
       "127630   53352938      28000        28000          28000.0     20.99   \n",
       "\n",
       "        annual_inc    dti  delinq_2yrs  inq_last_6mths  \\\n",
       "261302     90000.0  14.45          1.0             0.0   \n",
       "480983     42000.0  23.83          0.0             5.0   \n",
       "311900     54000.0  17.56          0.0             0.0   \n",
       "271108     62000.0  20.02          1.0             2.0   \n",
       "127630     85000.0  18.75          3.0             2.0   \n",
       "\n",
       "        mths_since_last_delinq  ...    major_purchase  medical  moving  other  \\\n",
       "261302                    18.0  ...                 0        0       0      0   \n",
       "480983                    52.0  ...                 0        0       0      0   \n",
       "311900                    57.0  ...                 0        0       0      0   \n",
       "271108                    10.0  ...                 0        0       0      0   \n",
       "127630                    12.0  ...                 0        0       0      0   \n",
       "\n",
       "        renewable_energy  small_business  vacation  wedding  w  JOINT  \n",
       "261302                 0               0         0        0  0      0  \n",
       "480983                 0               0         0        0  0      0  \n",
       "311900                 0               0         0        0  0      0  \n",
       "271108                 0               0         0        0  1      0  \n",
       "127630                 0               0         0        0  1      0  \n",
       "\n",
       "[5 rows x 50 columns]"
      ]
     },
     "execution_count": 44,
     "metadata": {},
     "output_type": "execute_result"
    }
   ],
   "source": [
    "X_train.head()"
   ]
  },
  {
   "cell_type": "markdown",
   "metadata": {},
   "source": [
    "## Logistic Regression"
   ]
  },
  {
   "cell_type": "code",
   "execution_count": 45,
   "metadata": {},
   "outputs": [
    {
     "data": {
      "text/plain": [
       "LogisticRegression(C=1.0, class_weight=None, dual=False, fit_intercept=True,\n",
       "          intercept_scaling=1, max_iter=100, multi_class='ovr', n_jobs=1,\n",
       "          penalty='l2', random_state=None, solver='liblinear', tol=0.0001,\n",
       "          verbose=0, warm_start=False)"
      ]
     },
     "execution_count": 45,
     "metadata": {},
     "output_type": "execute_result"
    }
   ],
   "source": [
    "from sklearn.linear_model import LogisticRegression\n",
    "model = LogisticRegression()\n",
    "model.fit(X_train, y_train)"
   ]
  },
  {
   "cell_type": "code",
   "execution_count": 46,
   "metadata": {},
   "outputs": [],
   "source": [
    "predict = model.predict(X_test)"
   ]
  },
  {
   "cell_type": "code",
   "execution_count": 47,
   "metadata": {},
   "outputs": [],
   "source": [
    "from sklearn.metrics import confusion_matrix"
   ]
  },
  {
   "cell_type": "code",
   "execution_count": 48,
   "metadata": {},
   "outputs": [
    {
     "data": {
      "text/plain": [
       "array([[38715,   227],\n",
       "       [ 8427,   475]], dtype=int64)"
      ]
     },
     "execution_count": 48,
     "metadata": {},
     "output_type": "execute_result"
    }
   ],
   "source": [
    "confusion_matrix(y_test, predict)"
   ]
  },
  {
   "cell_type": "code",
   "execution_count": 49,
   "metadata": {},
   "outputs": [],
   "source": [
    "from sklearn.metrics import precision_score, recall_score, classification_report"
   ]
  },
  {
   "cell_type": "code",
   "execution_count": 50,
   "metadata": {},
   "outputs": [
    {
     "data": {
      "text/plain": [
       "0.6766381766381766"
      ]
     },
     "execution_count": 50,
     "metadata": {},
     "output_type": "execute_result"
    }
   ],
   "source": [
    "precision_score(y_test, predict)"
   ]
  },
  {
   "cell_type": "code",
   "execution_count": 51,
   "metadata": {},
   "outputs": [
    {
     "data": {
      "text/plain": [
       "0.05335879577623006"
      ]
     },
     "execution_count": 51,
     "metadata": {},
     "output_type": "execute_result"
    }
   ],
   "source": [
    "recall_score(y_test, predict)"
   ]
  },
  {
   "cell_type": "markdown",
   "metadata": {},
   "source": [
    "## Random Forest Classifier"
   ]
  },
  {
   "cell_type": "code",
   "execution_count": 52,
   "metadata": {},
   "outputs": [],
   "source": [
    "from sklearn.ensemble import RandomForestClassifier"
   ]
  },
  {
   "cell_type": "code",
   "execution_count": 53,
   "metadata": {},
   "outputs": [
    {
     "data": {
      "text/plain": [
       "RandomForestClassifier(bootstrap=True, class_weight=None, criterion='gini',\n",
       "            max_depth=None, max_features='auto', max_leaf_nodes=None,\n",
       "            min_impurity_decrease=0.0, min_impurity_split=None,\n",
       "            min_samples_leaf=1, min_samples_split=2,\n",
       "            min_weight_fraction_leaf=0.0, n_estimators=10, n_jobs=1,\n",
       "            oob_score=False, random_state=None, verbose=0,\n",
       "            warm_start=False)"
      ]
     },
     "execution_count": 53,
     "metadata": {},
     "output_type": "execute_result"
    }
   ],
   "source": [
    "model = RandomForestClassifier()\n",
    "model.fit(X_train, y_train)"
   ]
  },
  {
   "cell_type": "code",
   "execution_count": 54,
   "metadata": {},
   "outputs": [],
   "source": [
    "predict = model.predict(X_test)"
   ]
  },
  {
   "cell_type": "code",
   "execution_count": 55,
   "metadata": {},
   "outputs": [
    {
     "data": {
      "text/plain": [
       "array([[38145,   797],\n",
       "       [ 3943,  4959]], dtype=int64)"
      ]
     },
     "execution_count": 55,
     "metadata": {},
     "output_type": "execute_result"
    }
   ],
   "source": [
    "confusion_matrix(y_test, predict)"
   ]
  },
  {
   "cell_type": "code",
   "execution_count": 56,
   "metadata": {},
   "outputs": [
    {
     "data": {
      "text/plain": [
       "0.8615357887421821"
      ]
     },
     "execution_count": 56,
     "metadata": {},
     "output_type": "execute_result"
    }
   ],
   "source": [
    "precision_score(y_test, predict)"
   ]
  },
  {
   "cell_type": "code",
   "execution_count": 57,
   "metadata": {},
   "outputs": [
    {
     "data": {
      "text/plain": [
       "0.5570658279038418"
      ]
     },
     "execution_count": 57,
     "metadata": {},
     "output_type": "execute_result"
    }
   ],
   "source": [
    "recall_score(y_test, predict)"
   ]
  },
  {
   "cell_type": "markdown",
   "metadata": {},
   "source": [
    "## XGBoost Classifier"
   ]
  },
  {
   "cell_type": "code",
   "execution_count": null,
   "metadata": {},
   "outputs": [],
   "source": [
    "from xgboost import XGBClassifier"
   ]
  },
  {
   "cell_type": "code",
   "execution_count": null,
   "metadata": {},
   "outputs": [],
   "source": [
    "model = XGBClassifier()\n",
    "model.fit(X_train, y_train)"
   ]
  },
  {
   "cell_type": "code",
   "execution_count": null,
   "metadata": {},
   "outputs": [],
   "source": [
    "predict = model.predict(X_test)"
   ]
  },
  {
   "cell_type": "code",
   "execution_count": null,
   "metadata": {},
   "outputs": [],
   "source": [
    "confusion_matrix(y_test, predict)"
   ]
  },
  {
   "cell_type": "code",
   "execution_count": null,
   "metadata": {},
   "outputs": [],
   "source": [
    "precision_score(y_test, predict)"
   ]
  },
  {
   "cell_type": "code",
   "execution_count": null,
   "metadata": {},
   "outputs": [],
   "source": [
    "recall_score(y_test, predict)"
   ]
  },
  {
   "cell_type": "markdown",
   "metadata": {},
   "source": [
    "# 6. Tuning the Model"
   ]
  },
  {
   "cell_type": "code",
   "execution_count": 61,
   "metadata": {},
   "outputs": [
    {
     "name": "stderr",
     "output_type": "stream",
     "text": [
      "C:\\Users\\Dell\\Anaconda3\\envs\\mlw\\lib\\site-packages\\sklearn\\cross_validation.py:41: DeprecationWarning: This module was deprecated in version 0.18 in favor of the model_selection module into which all the refactored classes and functions are moved. Also note that the interface of the new CV iterators are different from that of this module. This module will be removed in 0.20.\n",
      "  \"This module will be removed in 0.20.\", DeprecationWarning)\n",
      "C:\\Users\\Dell\\Anaconda3\\envs\\mlw\\lib\\site-packages\\sklearn\\grid_search.py:42: DeprecationWarning: This module was deprecated in version 0.18 in favor of the model_selection module into which all the refactored classes and functions are moved. This module will be removed in 0.20.\n",
      "  DeprecationWarning)\n"
     ]
    }
   ],
   "source": [
    "from sklearn.grid_search import GridSearchCV"
   ]
  },
  {
   "cell_type": "markdown",
   "metadata": {},
   "source": [
    "## Random Forest Classifier"
   ]
  },
  {
   "cell_type": "code",
   "execution_count": 89,
   "metadata": {},
   "outputs": [],
   "source": [
    "param_grid = [\n",
    "    {'n_estimators': [101, 200]},\n",
    "    {'n_jobs': [-1]},\n",
    "    ]"
   ]
  },
  {
   "cell_type": "code",
   "execution_count": 90,
   "metadata": {},
   "outputs": [],
   "source": [
    "model = RandomForestClassifier()"
   ]
  },
  {
   "cell_type": "code",
   "execution_count": 95,
   "metadata": {},
   "outputs": [],
   "source": [
    "grid_search = GridSearchCV(model, param_grid, cv = 5, scoring = 'precision', verbose = 4)"
   ]
  },
  {
   "cell_type": "code",
   "execution_count": 96,
   "metadata": {},
   "outputs": [
    {
     "name": "stdout",
     "output_type": "stream",
     "text": [
      "Fitting 5 folds for each of 3 candidates, totalling 15 fits\n",
      "[CV] n_estimators=101 ................................................\n",
      "[CV] ....................... n_estimators=101, score=0.870515 - 1.6min\n",
      "[CV] n_estimators=101 ................................................\n"
     ]
    },
    {
     "name": "stderr",
     "output_type": "stream",
     "text": [
      "[Parallel(n_jobs=1)]: Done   1 out of   1 | elapsed:  1.6min remaining:    0.0s\n"
     ]
    },
    {
     "name": "stdout",
     "output_type": "stream",
     "text": [
      "[CV] ....................... n_estimators=101, score=0.877852 - 1.6min\n",
      "[CV] n_estimators=101 ................................................\n"
     ]
    },
    {
     "name": "stderr",
     "output_type": "stream",
     "text": [
      "[Parallel(n_jobs=1)]: Done   2 out of   2 | elapsed:  3.2min remaining:    0.0s\n"
     ]
    },
    {
     "name": "stdout",
     "output_type": "stream",
     "text": [
      "[CV] ....................... n_estimators=101, score=0.866538 - 1.6min\n",
      "[CV] n_estimators=101 ................................................\n"
     ]
    },
    {
     "name": "stderr",
     "output_type": "stream",
     "text": [
      "[Parallel(n_jobs=1)]: Done   3 out of   3 | elapsed:  4.8min remaining:    0.0s\n"
     ]
    },
    {
     "name": "stdout",
     "output_type": "stream",
     "text": [
      "[CV] ....................... n_estimators=101, score=0.871326 - 1.6min\n",
      "[CV] n_estimators=101 ................................................\n",
      "[CV] ....................... n_estimators=101, score=0.871542 - 1.6min\n",
      "[CV] n_estimators=200 ................................................\n",
      "[CV] ....................... n_estimators=200, score=0.872896 - 3.1min\n",
      "[CV] n_estimators=200 ................................................\n",
      "[CV] ....................... n_estimators=200, score=0.877448 - 3.1min\n",
      "[CV] n_estimators=200 ................................................\n",
      "[CV] ....................... n_estimators=200, score=0.863792 - 3.1min\n",
      "[CV] n_estimators=200 ................................................\n",
      "[CV] ....................... n_estimators=200, score=0.870892 - 3.1min\n",
      "[CV] n_estimators=200 ................................................\n",
      "[CV] ....................... n_estimators=200, score=0.871336 - 2.3min\n",
      "[CV] n_jobs=-1 .......................................................\n",
      "[CV] .............................. n_jobs=-1, score=0.858955 -   3.1s\n",
      "[CV] n_jobs=-1 .......................................................\n",
      "[CV] .............................. n_jobs=-1, score=0.870493 -   3.3s\n",
      "[CV] n_jobs=-1 .......................................................\n",
      "[CV] .............................. n_jobs=-1, score=0.851206 -   3.2s\n",
      "[CV] n_jobs=-1 .......................................................\n",
      "[CV] .............................. n_jobs=-1, score=0.864530 -   3.1s\n",
      "[CV] n_jobs=-1 .......................................................\n",
      "[CV] .............................. n_jobs=-1, score=0.860626 -   3.3s\n"
     ]
    },
    {
     "name": "stderr",
     "output_type": "stream",
     "text": [
      "[Parallel(n_jobs=1)]: Done  15 out of  15 | elapsed: 23.1min finished\n"
     ]
    },
    {
     "data": {
      "text/plain": [
       "GridSearchCV(cv=5, error_score='raise',\n",
       "       estimator=RandomForestClassifier(bootstrap=True, class_weight=None, criterion='gini',\n",
       "            max_depth=None, max_features='auto', max_leaf_nodes=None,\n",
       "            min_impurity_decrease=0.0, min_impurity_split=None,\n",
       "            min_samples_leaf=1, min_samples_split=2,\n",
       "            min_weight_fraction_leaf=0.0, n_estimators=10, n_jobs=1,\n",
       "            oob_score=False, random_state=None, verbose=0,\n",
       "            warm_start=False),\n",
       "       fit_params={}, iid=True, n_jobs=1,\n",
       "       param_grid=[{'n_estimators': [101, 200]}, {'n_jobs': [-1]}],\n",
       "       pre_dispatch='2*n_jobs', refit=True, scoring='precision', verbose=4)"
      ]
     },
     "execution_count": 96,
     "metadata": {},
     "output_type": "execute_result"
    }
   ],
   "source": [
    "grid_search.fit(X_train,y_train)"
   ]
  },
  {
   "cell_type": "code",
   "execution_count": 101,
   "metadata": {},
   "outputs": [
    {
     "data": {
      "text/plain": [
       "{'n_estimators': 101}"
      ]
     },
     "execution_count": 101,
     "metadata": {},
     "output_type": "execute_result"
    }
   ],
   "source": [
    "grid_search.best_params_"
   ]
  },
  {
   "cell_type": "code",
   "execution_count": 102,
   "metadata": {},
   "outputs": [
    {
     "name": "stdout",
     "output_type": "stream",
     "text": [
      "[[38145   797]\n",
      " [ 3943  4959]]\n"
     ]
    }
   ],
   "source": [
    "print(confusion_matrix(y_test, predict))"
   ]
  },
  {
   "cell_type": "code",
   "execution_count": 103,
   "metadata": {},
   "outputs": [
    {
     "name": "stdout",
     "output_type": "stream",
     "text": [
      "0.8615357887421821\n"
     ]
    }
   ],
   "source": [
    "print(precision_score(y_test,predict))"
   ]
  },
  {
   "cell_type": "code",
   "execution_count": 104,
   "metadata": {},
   "outputs": [
    {
     "name": "stdout",
     "output_type": "stream",
     "text": [
      "0.5570658279038418\n"
     ]
    }
   ],
   "source": [
    "print(recall_score(y_test,predict))"
   ]
  },
  {
   "cell_type": "markdown",
   "metadata": {},
   "source": [
    "# 7. Predict on New Cases"
   ]
  },
  {
   "cell_type": "code",
   "execution_count": null,
   "metadata": {},
   "outputs": [],
   "source": [
    "test = pd.read_csv('test_indessa.csv')"
   ]
  },
  {
   "cell_type": "code",
   "execution_count": null,
   "metadata": {},
   "outputs": [],
   "source": [
    "test.info()"
   ]
  },
  {
   "cell_type": "code",
   "execution_count": null,
   "metadata": {},
   "outputs": [],
   "source": [
    "test['last_week_pay'] = test['last_week_pay'].apply(convert_last_week_pay)"
   ]
  },
  {
   "cell_type": "code",
   "execution_count": null,
   "metadata": {},
   "outputs": [],
   "source": [
    "test['term'] = test['term'].map({'36 months':3, '60 months': 5})"
   ]
  },
  {
   "cell_type": "code",
   "execution_count": null,
   "metadata": {},
   "outputs": [],
   "source": [
    "fill_missings_train(test)"
   ]
  },
  {
   "cell_type": "code",
   "execution_count": null,
   "metadata": {},
   "outputs": [],
   "source": [
    "test['annual_inc'].fillna(65000.0, inplace = True)\n",
    "test['delinq_2yrs'].fillna(0.0, inplace = True)\n",
    "test['inq_last_6mths'].fillna(0.0, inplace = True)\n",
    "test['open_acc'].fillna(11.0, inplace = True)\n",
    "test['pub_rec'].fillna(0.0, inplace = True)\n",
    "test['total_acc'].fillna(24.0, inplace = True)\n",
    "test['acc_now_delinq'].fillna(0.0, inplace = True)"
   ]
  },
  {
   "cell_type": "code",
   "execution_count": null,
   "metadata": {},
   "outputs": [],
   "source": [
    "add_new_columns(test)"
   ]
  },
  {
   "cell_type": "code",
   "execution_count": null,
   "metadata": {},
   "outputs": [],
   "source": [
    "test = convert_columns(test)"
   ]
  },
  {
   "cell_type": "code",
   "execution_count": null,
   "metadata": {},
   "outputs": [],
   "source": [
    "test['MORTGAGE'] = np.zeros(test.shape[0])"
   ]
  },
  {
   "cell_type": "code",
   "execution_count": null,
   "metadata": {},
   "outputs": [],
   "source": [
    "cols = data.columns.tolist()\n",
    "cols.remove('loan_status')\n",
    "test = test[cols]"
   ]
  },
  {
   "cell_type": "code",
   "execution_count": null,
   "metadata": {},
   "outputs": [],
   "source": [
    "model = XGBClassifier()\n",
    "model.fit(data.drop(['loan_status'], axis = 1), data['loan_status'])"
   ]
  },
  {
   "cell_type": "code",
   "execution_count": null,
   "metadata": {},
   "outputs": [],
   "source": [
    "test_predict = model.predict_proba(test)"
   ]
  },
  {
   "cell_type": "code",
   "execution_count": null,
   "metadata": {},
   "outputs": [],
   "source": [
    "result = pd.concat([test['member_id'], pd.DataFrame(test_predict, columns = ['loan', 'loan_status'])], axis = 1)\n",
    "result.drop(['loan'], axis = 1, inplace = True)"
   ]
  },
  {
   "cell_type": "code",
   "execution_count": null,
   "metadata": {},
   "outputs": [],
   "source": [
    "result.to_csv('result.csv', index = False)"
   ]
  }
 ],
 "metadata": {
  "kernelspec": {
   "display_name": "Python 3",
   "language": "python",
   "name": "python3"
  },
  "language_info": {
   "codemirror_mode": {
    "name": "ipython",
    "version": 3
   },
   "file_extension": ".py",
   "mimetype": "text/x-python",
   "name": "python",
   "nbconvert_exporter": "python",
   "pygments_lexer": "ipython3",
   "version": "3.6.5"
  }
 },
 "nbformat": 4,
 "nbformat_minor": 2
}
